{
 "cells": [
  {
   "cell_type": "code",
   "execution_count": 1,
   "id": "230dc7bd",
   "metadata": {},
   "outputs": [],
   "source": [
    "import tensorflow as tf"
   ]
  },
  {
   "cell_type": "code",
   "execution_count": 2,
   "id": "f26d6ef7",
   "metadata": {},
   "outputs": [
    {
     "name": "stderr",
     "output_type": "stream",
     "text": [
      "2023-03-22 10:05:04.281506: I tensorflow/core/platform/cpu_feature_guard.cc:151] This TensorFlow binary is optimized with oneAPI Deep Neural Network Library (oneDNN) to use the following CPU instructions in performance-critical operations:  SSE4.1 SSE4.2 AVX AVX2 AVX512F FMA\n",
      "To enable them in other operations, rebuild TensorFlow with the appropriate compiler flags.\n",
      "2023-03-22 10:05:04.283396: I tensorflow/core/common_runtime/process_util.cc:146] Creating new thread pool with default inter op setting: 2. Tune using inter_op_parallelism_threads for best performance.\n"
     ]
    }
   ],
   "source": [
    "matrix1 = tf.Variable([\n",
    "    [1.0, 0, 3.0, 1.0, 2.0],\n",
    "    [0, 1.0, 1.0, 1.0, 1.0],\n",
    "    [2.0, 1.0, 0, 2.0, 0]\n",
    "])"
   ]
  },
  {
   "cell_type": "code",
   "execution_count": 3,
   "id": "a3e43328",
   "metadata": {},
   "outputs": [
    {
     "data": {
      "text/plain": [
       "<tf.Variable 'Variable:0' shape=(3, 5) dtype=float32, numpy=\n",
       "array([[1., 0., 3., 1., 2.],\n",
       "       [0., 1., 1., 1., 1.],\n",
       "       [2., 1., 0., 2., 0.]], dtype=float32)>"
      ]
     },
     "execution_count": 3,
     "metadata": {},
     "output_type": "execute_result"
    }
   ],
   "source": [
    "matrix1"
   ]
  },
  {
   "cell_type": "code",
   "execution_count": 4,
   "id": "61f4c8d6",
   "metadata": {},
   "outputs": [
    {
     "data": {
      "text/plain": [
       "[3, 5]"
      ]
     },
     "execution_count": 4,
     "metadata": {},
     "output_type": "execute_result"
    }
   ],
   "source": [
    "matrix1.shape.as_list()"
   ]
  },
  {
   "cell_type": "code",
   "execution_count": 5,
   "id": "95d20ac7",
   "metadata": {},
   "outputs": [
    {
     "data": {
      "text/plain": [
       "<tf.Variable 'Variable:0' shape=(5, 2) dtype=float32, numpy=\n",
       "array([[  0.49, 103.  ],\n",
       "       [  0.18,  38.  ],\n",
       "       [  0.24,  69.  ],\n",
       "       [  1.02,  75.  ],\n",
       "       [  0.68,  78.  ]], dtype=float32)>"
      ]
     },
     "execution_count": 5,
     "metadata": {},
     "output_type": "execute_result"
    }
   ],
   "source": [
    "matrix2 = tf.Variable([\n",
    "    [0.49, 103],\n",
    "    [0.18, 38],\n",
    "    [0.24, 69],\n",
    "    [1.02, 75],\n",
    "    [0.68, 78]\n",
    "])\n",
    "matrix2"
   ]
  },
  {
   "cell_type": "code",
   "execution_count": 6,
   "id": "6d49d3bd",
   "metadata": {},
   "outputs": [
    {
     "data": {
      "text/plain": [
       "[5, 2]"
      ]
     },
     "execution_count": 6,
     "metadata": {},
     "output_type": "execute_result"
    }
   ],
   "source": [
    "matrix2.shape.as_list()"
   ]
  },
  {
   "cell_type": "code",
   "execution_count": 7,
   "id": "85b746cb",
   "metadata": {},
   "outputs": [
    {
     "data": {
      "text/plain": [
       "<tf.Tensor: shape=(3, 2), dtype=float32, numpy=\n",
       "array([[  3.5900002, 541.       ],\n",
       "       [  2.1200001, 260.       ],\n",
       "       [  3.2      , 394.       ]], dtype=float32)>"
      ]
     },
     "execution_count": 7,
     "metadata": {},
     "output_type": "execute_result"
    }
   ],
   "source": [
    "matmul1 = tf.matmul(matrix1, matrix2)\n",
    "matmul1"
   ]
  },
  {
   "cell_type": "code",
   "execution_count": 10,
   "id": "952fbacd",
   "metadata": {},
   "outputs": [
    {
     "data": {
      "text/plain": [
       "<tf.Variable 'Variable:0' shape=(5, 3) dtype=float32, numpy=\n",
       "array([[120., 100.,  90.],\n",
       "       [ 30.,  15.,  20.],\n",
       "       [220., 240., 185.],\n",
       "       [145., 160., 155.],\n",
       "       [330., 295., 290.]], dtype=float32)>"
      ]
     },
     "execution_count": 10,
     "metadata": {},
     "output_type": "execute_result"
    }
   ],
   "source": [
    "matrix3 = tf.Variable([\n",
    "    [120, 100, 90],\n",
    "    [30, 15, 20],\n",
    "    [220, 240, 185],\n",
    "    [145, 160, 155],\n",
    "    [330, 295, 290]\n",
    "], dtype=tf.float32)\n",
    "matrix3"
   ]
  },
  {
   "cell_type": "code",
   "execution_count": 11,
   "id": "e8546217",
   "metadata": {},
   "outputs": [
    {
     "data": {
      "text/plain": [
       "<tf.Tensor: shape=(5, 2), dtype=float32, numpy=\n",
       "array([[9.3080005e+02, 1.2638000e+05],\n",
       "       [2.0350000e+02, 2.8010000e+04],\n",
       "       [1.8906001e+03, 2.5431000e+05],\n",
       "       [1.3557501e+03, 1.8111500e+05],\n",
       "       [2.7381001e+03, 3.6949000e+05]], dtype=float32)>"
      ]
     },
     "execution_count": 11,
     "metadata": {},
     "output_type": "execute_result"
    }
   ],
   "source": [
    "matmul3 = matrix3 @ matmul1\n",
    "matmul3"
   ]
  },
  {
   "cell_type": "code",
   "execution_count": null,
   "id": "765c4f56",
   "metadata": {},
   "outputs": [],
   "source": []
  }
 ],
 "metadata": {
  "kernelspec": {
   "display_name": "Python 3 (ipykernel)",
   "language": "python",
   "name": "python3"
  },
  "language_info": {
   "codemirror_mode": {
    "name": "ipython",
    "version": 3
   },
   "file_extension": ".py",
   "mimetype": "text/x-python",
   "name": "python",
   "nbconvert_exporter": "python",
   "pygments_lexer": "ipython3",
   "version": "3.10.6"
  }
 },
 "nbformat": 4,
 "nbformat_minor": 5
}
