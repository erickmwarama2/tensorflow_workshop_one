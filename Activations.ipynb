{
 "cells": [
  {
   "cell_type": "code",
   "execution_count": 1,
   "id": "56a082e3",
   "metadata": {},
   "outputs": [],
   "source": [
    "import tensorflow as tf"
   ]
  },
  {
   "cell_type": "code",
   "execution_count": 2,
   "id": "4fe434ea",
   "metadata": {},
   "outputs": [
    {
     "name": "stderr",
     "output_type": "stream",
     "text": [
      "2023-03-22 13:02:59.657231: I tensorflow/core/platform/cpu_feature_guard.cc:151] This TensorFlow binary is optimized with oneAPI Deep Neural Network Library (oneDNN) to use the following CPU instructions in performance-critical operations:  SSE4.1 SSE4.2 AVX AVX2 AVX512F FMA\n",
      "To enable them in other operations, rebuild TensorFlow with the appropriate compiler flags.\n",
      "2023-03-22 13:02:59.658580: I tensorflow/core/common_runtime/process_util.cc:146] Creating new thread pool with default inter op setting: 2. Tune using inter_op_parallelism_threads for best performance.\n"
     ]
    },
    {
     "data": {
      "text/plain": [
       "<tf.Variable 'Variable:0' shape=(3, 4) dtype=float32, numpy=\n",
       "array([[-0.013,  0.024,  0.06 ,  0.022],\n",
       "       [ 0.001, -0.047,  0.039,  0.016],\n",
       "       [ 0.018,  0.03 , -0.021, -0.028]], dtype=float32)>"
      ]
     },
     "execution_count": 2,
     "metadata": {},
     "output_type": "execute_result"
    }
   ],
   "source": [
    "matrix1 = tf.Variable([\n",
    "    [-0.013, 0.024, 0.06, 0.022],\n",
    "    [0.001, -0.047, 0.039, 0.016],\n",
    "    [0.018, 0.030, -0.021, -0.028]\n",
    "])\n",
    "\n",
    "matrix1"
   ]
  },
  {
   "cell_type": "code",
   "execution_count": 9,
   "id": "38b18978",
   "metadata": {},
   "outputs": [
    {
     "data": {
      "text/plain": [
       "<tf.Variable 'Variable:0' shape=(4, 1) dtype=float32, numpy=\n",
       "array([[19999.95],\n",
       "       [24995.5 ],\n",
       "       [36745.5 ],\n",
       "       [29995.95]], dtype=float32)>"
      ]
     },
     "execution_count": 9,
     "metadata": {},
     "output_type": "execute_result"
    }
   ],
   "source": [
    "msrp_matrix = tf.Variable([\n",
    "    [19999.95],\n",
    "    [24995.50],\n",
    "    [36745.50],\n",
    "    [29995.95]\n",
    "])\n",
    "msrp_matrix"
   ]
  },
  {
   "cell_type": "code",
   "execution_count": 6,
   "id": "9b9aad0d",
   "metadata": {},
   "outputs": [
    {
     "data": {
      "text/plain": [
       "<tf.Variable 'Variable:0' shape=(3, 1) dtype=float32, numpy=\n",
       "array([[2500.],\n",
       "       [2500.],\n",
       "       [2500.]], dtype=float32)>"
      ]
     },
     "execution_count": 6,
     "metadata": {},
     "output_type": "execute_result"
    }
   ],
   "source": [
    "bias_tensor = tf.Variable([\n",
    "    [2500],\n",
    "    [2500],\n",
    "    [2500]\n",
    "], dtype=tf.float32)\n",
    "bias_tensor"
   ]
  },
  {
   "cell_type": "code",
   "execution_count": 10,
   "id": "74b63049",
   "metadata": {},
   "outputs": [
    {
     "data": {
      "text/plain": [
       "<tf.Tensor: shape=(3, 1), dtype=float32, numpy=\n",
       "array([[  704.53345],\n",
       "       [-1741.7787 ],\n",
       "       [-3001.6782 ]], dtype=float32)>"
      ]
     },
     "execution_count": 10,
     "metadata": {},
     "output_type": "execute_result"
    }
   ],
   "source": [
    "result = tf.subtract(tf.matmul(matrix1, msrp_matrix), bias_tensor)\n",
    "result"
   ]
  },
  {
   "cell_type": "code",
   "execution_count": 11,
   "id": "e9b52c91",
   "metadata": {},
   "outputs": [
    {
     "data": {
      "text/plain": [
       "<tf.Tensor: shape=(3, 1), dtype=float32, numpy=\n",
       "array([[704.53345],\n",
       "       [  0.     ],\n",
       "       [  0.     ]], dtype=float32)>"
      ]
     },
     "execution_count": 11,
     "metadata": {},
     "output_type": "execute_result"
    }
   ],
   "source": [
    "tf.keras.activations.relu(result)"
   ]
  },
  {
   "cell_type": "code",
   "execution_count": null,
   "id": "ccccc5fe",
   "metadata": {},
   "outputs": [],
   "source": []
  }
 ],
 "metadata": {
  "kernelspec": {
   "display_name": "Python 3 (ipykernel)",
   "language": "python",
   "name": "python3"
  },
  "language_info": {
   "codemirror_mode": {
    "name": "ipython",
    "version": 3
   },
   "file_extension": ".py",
   "mimetype": "text/x-python",
   "name": "python",
   "nbconvert_exporter": "python",
   "pygments_lexer": "ipython3",
   "version": "3.10.6"
  }
 },
 "nbformat": 4,
 "nbformat_minor": 5
}
