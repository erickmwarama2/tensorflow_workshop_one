{
 "cells": [
  {
   "cell_type": "code",
   "execution_count": 1,
   "id": "5a6f4118",
   "metadata": {},
   "outputs": [],
   "source": [
    "import tensorflow as tf"
   ]
  },
  {
   "cell_type": "code",
   "execution_count": 2,
   "id": "d686a571",
   "metadata": {},
   "outputs": [
    {
     "name": "stderr",
     "output_type": "stream",
     "text": [
      "2023-03-16 10:26:14.829435: I tensorflow/core/platform/cpu_feature_guard.cc:151] This TensorFlow binary is optimized with oneAPI Deep Neural Network Library (oneDNN) to use the following CPU instructions in performance-critical operations:  SSE4.1 SSE4.2 AVX AVX2 AVX512F FMA\n",
      "To enable them in other operations, rebuild TensorFlow with the appropriate compiler flags.\n",
      "2023-03-16 10:26:14.830815: I tensorflow/core/common_runtime/process_util.cc:146] Creating new thread pool with default inter op setting: 2. Tune using inter_op_parallelism_threads for best performance.\n"
     ]
    }
   ],
   "source": [
    "tensor1 = tf.Variable([1,2,3])\n",
    "tensor2 = tf.Variable([4,5,6])"
   ]
  },
  {
   "cell_type": "code",
   "execution_count": 3,
   "id": "735430b4",
   "metadata": {},
   "outputs": [
    {
     "data": {
      "text/plain": [
       "<tf.Tensor: shape=(3,), dtype=int32, numpy=array([5, 7, 9], dtype=int32)>"
      ]
     },
     "execution_count": 3,
     "metadata": {},
     "output_type": "execute_result"
    }
   ],
   "source": [
    "tensor_add_1 = tf.add(tensor1, tensor2)\n",
    "tensor_add_1"
   ]
  },
  {
   "cell_type": "code",
   "execution_count": 4,
   "id": "ec0ed96b",
   "metadata": {},
   "outputs": [],
   "source": [
    "int1 = tf.Variable(4113, tf.int32)\n",
    "int2 = tf.Variable(7511, tf.int32)\n",
    "int3 = tf.Variable(6529, tf.int32)"
   ]
  },
  {
   "cell_type": "code",
   "execution_count": 5,
   "id": "01cf4e26",
   "metadata": {},
   "outputs": [],
   "source": [
    "int_sum = int1 + int2 + int3"
   ]
  },
  {
   "cell_type": "code",
   "execution_count": 6,
   "id": "02fa3315",
   "metadata": {},
   "outputs": [
    {
     "data": {
      "text/plain": [
       "18153"
      ]
     },
     "execution_count": 6,
     "metadata": {},
     "output_type": "execute_result"
    }
   ],
   "source": [
    "int_sum.numpy()"
   ]
  },
  {
   "cell_type": "code",
   "execution_count": 7,
   "id": "98892776",
   "metadata": {},
   "outputs": [
    {
     "data": {
      "text/plain": [
       "<tf.Tensor: shape=(), dtype=int32, numpy=18153>"
      ]
     },
     "execution_count": 7,
     "metadata": {},
     "output_type": "execute_result"
    }
   ],
   "source": [
    "int_sum"
   ]
  },
  {
   "cell_type": "code",
   "execution_count": 8,
   "id": "a3556ae4",
   "metadata": {},
   "outputs": [],
   "source": [
    "vec1 = tf.Variable([4113, 3870, 5102], dtype=tf.int32)\n",
    "vec2 = tf.Variable([7511, 6725, 7038], dtype=tf.int32)\n",
    "vec3 = tf.Variable([6529, 6962, 6591], dtype=tf.int32)"
   ]
  },
  {
   "cell_type": "code",
   "execution_count": 9,
   "id": "2b5e87ba",
   "metadata": {},
   "outputs": [],
   "source": [
    "vec_sum = vec1 + vec2 + vec3"
   ]
  },
  {
   "cell_type": "code",
   "execution_count": 10,
   "id": "d1328394",
   "metadata": {},
   "outputs": [
    {
     "data": {
      "text/plain": [
       "<tf.Tensor: shape=(3,), dtype=int32, numpy=array([18153, 17557, 18731], dtype=int32)>"
      ]
     },
     "execution_count": 10,
     "metadata": {},
     "output_type": "execute_result"
    }
   ],
   "source": [
    "vec_sum"
   ]
  },
  {
   "cell_type": "code",
   "execution_count": 11,
   "id": "d526bca9",
   "metadata": {},
   "outputs": [
    {
     "data": {
      "text/plain": [
       "array([18153, 17557, 18731], dtype=int32)"
      ]
     },
     "execution_count": 11,
     "metadata": {},
     "output_type": "execute_result"
    }
   ],
   "source": [
    "vec_sum.numpy()"
   ]
  },
  {
   "cell_type": "code",
   "execution_count": 12,
   "id": "7fa6b78c",
   "metadata": {},
   "outputs": [
    {
     "data": {
      "text/plain": [
       "18153"
      ]
     },
     "execution_count": 12,
     "metadata": {},
     "output_type": "execute_result"
    }
   ],
   "source": [
    "(vec1[0] + vec2[0] + vec3[0]).numpy()"
   ]
  },
  {
   "cell_type": "code",
   "execution_count": 13,
   "id": "241b2d7e",
   "metadata": {},
   "outputs": [
    {
     "data": {
      "text/plain": [
       "17557"
      ]
     },
     "execution_count": 13,
     "metadata": {},
     "output_type": "execute_result"
    }
   ],
   "source": [
    "(vec1[1] + vec2[1] + vec3[1]).numpy()"
   ]
  },
  {
   "cell_type": "code",
   "execution_count": 14,
   "id": "4fa580dc",
   "metadata": {},
   "outputs": [],
   "source": [
    "matrix1 = tf.Variable([[4113, 3870, 5102],\n",
    "                      [3611, 951, 870]], tf.int32)\n",
    "matrix2 = tf.Variable([[7511, 6725, 7038],\n",
    "                      [5901, 1208, 645]], tf.int32)\n",
    "matrix3 = tf.Variable([[6529, 6962, 6591],\n",
    "                      [6235, 1098, 948]], tf.int32)"
   ]
  },
  {
   "cell_type": "code",
   "execution_count": 15,
   "id": "e4ba8325",
   "metadata": {},
   "outputs": [
    {
     "data": {
      "text/plain": [
       "True"
      ]
     },
     "execution_count": 15,
     "metadata": {},
     "output_type": "execute_result"
    }
   ],
   "source": [
    "matrix1.shape == matrix2.shape == matrix3.shape"
   ]
  },
  {
   "cell_type": "code",
   "execution_count": 16,
   "id": "bd35d500",
   "metadata": {},
   "outputs": [],
   "source": [
    "matrix_sum = matrix1 + matrix2 + matrix3"
   ]
  },
  {
   "cell_type": "code",
   "execution_count": 17,
   "id": "d5a40861",
   "metadata": {},
   "outputs": [
    {
     "data": {
      "text/plain": [
       "array([[18153, 17557, 18731],\n",
       "       [15747,  3257,  2463]], dtype=int32)"
      ]
     },
     "execution_count": 17,
     "metadata": {},
     "output_type": "execute_result"
    }
   ],
   "source": [
    "matrix_sum.numpy()"
   ]
  },
  {
   "cell_type": "code",
   "execution_count": 18,
   "id": "2d0d6fd6",
   "metadata": {},
   "outputs": [],
   "source": [
    "location_x = tf.Variable([[2706, 2799, 5102],\n",
    "                         [2386, 4089, 5932]], tf.int32)\n",
    "location_y = tf.Variable([[5901, 1208, 645],\n",
    "                         [6235, 1098, 948]], tf.int32)\n",
    "location_z = tf.Variable([[3908, 2339, 5520],\n",
    "                         [4544, 1978, 4729]], tf.int32)"
   ]
  },
  {
   "cell_type": "code",
   "execution_count": 19,
   "id": "748fd736",
   "metadata": {},
   "outputs": [],
   "source": [
    "sales_1 = tf.Variable(2706, tf.int32)\n",
    "sales_2 = tf.Variable(2386, tf.int32)"
   ]
  },
  {
   "cell_type": "code",
   "execution_count": 20,
   "id": "3a47a46d",
   "metadata": {},
   "outputs": [
    {
     "data": {
      "text/plain": [
       "5092"
      ]
     },
     "execution_count": 20,
     "metadata": {},
     "output_type": "execute_result"
    }
   ],
   "source": [
    "product_a_x = sales_1 + sales_2\n",
    "product_a_x.numpy()"
   ]
  },
  {
   "cell_type": "code",
   "execution_count": 21,
   "id": "0bcc5051",
   "metadata": {},
   "outputs": [],
   "source": [
    "vec_1 = tf.Variable([2706, 2799, 5102], tf.int32)\n",
    "scal_1 = tf.Variable(95, tf.int32)"
   ]
  },
  {
   "cell_type": "code",
   "execution_count": 22,
   "id": "2f6deba3",
   "metadata": {},
   "outputs": [
    {
     "data": {
      "text/plain": [
       "array([2801, 2894, 5197], dtype=int32)"
      ]
     },
     "execution_count": 22,
     "metadata": {},
     "output_type": "execute_result"
    }
   ],
   "source": [
    "(vec_1 + scal_1).numpy()"
   ]
  },
  {
   "cell_type": "code",
   "execution_count": 23,
   "id": "fd394483",
   "metadata": {},
   "outputs": [
    {
     "data": {
      "text/plain": [
       "array([[12515,  6346, 11267],\n",
       "       [13165,  7165, 11609]], dtype=int32)"
      ]
     },
     "execution_count": 23,
     "metadata": {},
     "output_type": "execute_result"
    }
   ],
   "source": [
    "(location_x + location_y + location_z).numpy()"
   ]
  },
  {
   "cell_type": "code",
   "execution_count": 24,
   "id": "da6529b0",
   "metadata": {},
   "outputs": [],
   "source": [
    "tensor1 = tf.Variable([1,2,3,4,5,6])\n",
    "tensor_reshape = tf.reshape(tensor1, shape=[3,2])"
   ]
  },
  {
   "cell_type": "code",
   "execution_count": 25,
   "id": "3917d3c5",
   "metadata": {},
   "outputs": [
    {
     "data": {
      "text/plain": [
       "array([[1, 2],\n",
       "       [3, 4],\n",
       "       [5, 6]], dtype=int32)"
      ]
     },
     "execution_count": 25,
     "metadata": {},
     "output_type": "execute_result"
    }
   ],
   "source": [
    "tensor_reshape.numpy()"
   ]
  },
  {
   "cell_type": "code",
   "execution_count": 26,
   "id": "10c0bd6c",
   "metadata": {},
   "outputs": [
    {
     "data": {
      "text/plain": [
       "array([1, 2, 3, 4, 5, 6], dtype=int32)"
      ]
     },
     "execution_count": 26,
     "metadata": {},
     "output_type": "execute_result"
    }
   ],
   "source": [
    "tensor_transpose = tf.transpose(tensor1)\n",
    "tensor_transpose.numpy()"
   ]
  },
  {
   "cell_type": "code",
   "execution_count": 27,
   "id": "03a4085b",
   "metadata": {},
   "outputs": [
    {
     "data": {
      "text/plain": [
       "array([1, 2, 3, 4, 5, 6], dtype=int32)"
      ]
     },
     "execution_count": 27,
     "metadata": {},
     "output_type": "execute_result"
    }
   ],
   "source": [
    "tensor1.numpy()"
   ]
  },
  {
   "cell_type": "code",
   "execution_count": 28,
   "id": "f1427860",
   "metadata": {},
   "outputs": [
    {
     "data": {
      "text/plain": [
       "<tf.Tensor: shape=(6,), dtype=int32, numpy=array([1, 2, 3, 4, 5, 6], dtype=int32)>"
      ]
     },
     "execution_count": 28,
     "metadata": {},
     "output_type": "execute_result"
    }
   ],
   "source": [
    "tensor_transpose"
   ]
  },
  {
   "cell_type": "code",
   "execution_count": 29,
   "id": "72f94bea",
   "metadata": {},
   "outputs": [
    {
     "data": {
      "text/plain": [
       "array([[1, 3, 5],\n",
       "       [2, 4, 6]], dtype=int32)"
      ]
     },
     "execution_count": 29,
     "metadata": {},
     "output_type": "execute_result"
    }
   ],
   "source": [
    "(tf.transpose(tensor_reshape)).numpy()"
   ]
  },
  {
   "cell_type": "code",
   "execution_count": 30,
   "id": "d4534d78",
   "metadata": {},
   "outputs": [],
   "source": [
    "matrix1 = tf.Variable([[1,2,3,4],[5,6,7,8]])"
   ]
  },
  {
   "cell_type": "code",
   "execution_count": 32,
   "id": "a2f8e768",
   "metadata": {},
   "outputs": [
    {
     "data": {
      "text/plain": [
       "[2, 4]"
      ]
     },
     "execution_count": 32,
     "metadata": {},
     "output_type": "execute_result"
    }
   ],
   "source": [
    "matrix1.shape.as_list()"
   ]
  },
  {
   "cell_type": "code",
   "execution_count": 33,
   "id": "bc9963c9",
   "metadata": {},
   "outputs": [
    {
     "data": {
      "text/plain": [
       "<tf.Tensor: shape=(4, 2), dtype=int32, numpy=\n",
       "array([[1, 2],\n",
       "       [3, 4],\n",
       "       [5, 6],\n",
       "       [7, 8]], dtype=int32)>"
      ]
     },
     "execution_count": 33,
     "metadata": {},
     "output_type": "execute_result"
    }
   ],
   "source": [
    "reshape1 = tf.reshape(matrix1, shape=[4,2])\n",
    "reshape1"
   ]
  },
  {
   "cell_type": "code",
   "execution_count": 34,
   "id": "9e07f0d2",
   "metadata": {},
   "outputs": [
    {
     "data": {
      "text/plain": [
       "array([[1, 2, 3, 4, 5, 6, 7, 8]], dtype=int32)"
      ]
     },
     "execution_count": 34,
     "metadata": {},
     "output_type": "execute_result"
    }
   ],
   "source": [
    "reshape2 = tf.reshape(matrix1, shape=[1,8])\n",
    "reshape2.numpy()"
   ]
  },
  {
   "cell_type": "code",
   "execution_count": 35,
   "id": "cb0a881b",
   "metadata": {},
   "outputs": [
    {
     "data": {
      "text/plain": [
       "array([[1],\n",
       "       [2],\n",
       "       [3],\n",
       "       [4],\n",
       "       [5],\n",
       "       [6],\n",
       "       [7],\n",
       "       [8]], dtype=int32)"
      ]
     },
     "execution_count": 35,
     "metadata": {},
     "output_type": "execute_result"
    }
   ],
   "source": [
    "reshape3 = tf.reshape(matrix1, shape=[8, 1])\n",
    "reshape3.numpy()"
   ]
  },
  {
   "cell_type": "code",
   "execution_count": 36,
   "id": "eae136eb",
   "metadata": {},
   "outputs": [
    {
     "data": {
      "text/plain": [
       "array([[[1, 2],\n",
       "        [3, 4]],\n",
       "\n",
       "       [[5, 6],\n",
       "        [7, 8]]], dtype=int32)"
      ]
     },
     "execution_count": 36,
     "metadata": {},
     "output_type": "execute_result"
    }
   ],
   "source": [
    "reshape4 = tf.reshape(matrix1, shape=[2,2,2])\n",
    "reshape4.numpy()"
   ]
  },
  {
   "cell_type": "code",
   "execution_count": 37,
   "id": "d0dc6b3c",
   "metadata": {},
   "outputs": [
    {
     "data": {
      "text/plain": [
       "<tf.Tensor: shape=(4, 2), dtype=int32, numpy=\n",
       "array([[1, 5],\n",
       "       [2, 6],\n",
       "       [3, 7],\n",
       "       [4, 8]], dtype=int32)>"
      ]
     },
     "execution_count": 37,
     "metadata": {},
     "output_type": "execute_result"
    }
   ],
   "source": [
    "transpose1 = tf.transpose(matrix1)\n",
    "transpose1"
   ]
  },
  {
   "cell_type": "code",
   "execution_count": 38,
   "id": "eb68f8e7",
   "metadata": {},
   "outputs": [
    {
     "data": {
      "text/plain": [
       "<tf.Tensor: shape=(4, 2), dtype=int32, numpy=\n",
       "array([[1, 2],\n",
       "       [3, 4],\n",
       "       [5, 6],\n",
       "       [7, 8]], dtype=int32)>"
      ]
     },
     "execution_count": 38,
     "metadata": {},
     "output_type": "execute_result"
    }
   ],
   "source": [
    "reshape1"
   ]
  },
  {
   "cell_type": "code",
   "execution_count": 39,
   "id": "a22e7240",
   "metadata": {},
   "outputs": [],
   "source": [
    "tensor1 = tf.Variable([[1,2,3]])\n",
    "tensor2 = tf.Variable([[1], [2], [3]])"
   ]
  },
  {
   "cell_type": "code",
   "execution_count": 40,
   "id": "b5c81e93",
   "metadata": {},
   "outputs": [
    {
     "data": {
      "text/plain": [
       "<tf.Variable 'Variable:0' shape=(1, 3) dtype=int32, numpy=array([[1, 2, 3]], dtype=int32)>"
      ]
     },
     "execution_count": 40,
     "metadata": {},
     "output_type": "execute_result"
    }
   ],
   "source": [
    "tensor1"
   ]
  },
  {
   "cell_type": "code",
   "execution_count": 41,
   "id": "257a2a3b",
   "metadata": {},
   "outputs": [
    {
     "data": {
      "text/plain": [
       "<tf.Variable 'Variable:0' shape=(3, 1) dtype=int32, numpy=\n",
       "array([[1],\n",
       "       [2],\n",
       "       [3]], dtype=int32)>"
      ]
     },
     "execution_count": 41,
     "metadata": {},
     "output_type": "execute_result"
    }
   ],
   "source": [
    "tensor2"
   ]
  },
  {
   "cell_type": "code",
   "execution_count": 42,
   "id": "de768303",
   "metadata": {},
   "outputs": [
    {
     "data": {
      "text/plain": [
       "<tf.Tensor: shape=(1, 1), dtype=int32, numpy=array([[14]], dtype=int32)>"
      ]
     },
     "execution_count": 42,
     "metadata": {},
     "output_type": "execute_result"
    }
   ],
   "source": [
    "tensor_matmul = tf.matmul(tensor1, tensor2)\n",
    "tensor_matmul"
   ]
  },
  {
   "cell_type": "code",
   "execution_count": 43,
   "id": "d740e753",
   "metadata": {},
   "outputs": [
    {
     "data": {
      "text/plain": [
       "array([[14]], dtype=int32)"
      ]
     },
     "execution_count": 43,
     "metadata": {},
     "output_type": "execute_result"
    }
   ],
   "source": [
    "tensor_matmul.numpy()"
   ]
  },
  {
   "cell_type": "code",
   "execution_count": 44,
   "id": "d7ed5179",
   "metadata": {},
   "outputs": [
    {
     "data": {
      "text/plain": [
       "array([[1, 2, 3]], dtype=int32)"
      ]
     },
     "execution_count": 44,
     "metadata": {},
     "output_type": "execute_result"
    }
   ],
   "source": [
    "tensor1.numpy()"
   ]
  },
  {
   "cell_type": "code",
   "execution_count": 45,
   "id": "d221998a",
   "metadata": {},
   "outputs": [
    {
     "data": {
      "text/plain": [
       "array([[1],\n",
       "       [2],\n",
       "       [3]], dtype=int32)"
      ]
     },
     "execution_count": 45,
     "metadata": {},
     "output_type": "execute_result"
    }
   ],
   "source": [
    "tensor2.numpy()"
   ]
  },
  {
   "cell_type": "code",
   "execution_count": 46,
   "id": "90bbc93d",
   "metadata": {},
   "outputs": [],
   "source": [
    "tensor1 = tf.Variable([[1,2,3]])\n",
    "scalar_mult = 5 * tensor1"
   ]
  },
  {
   "cell_type": "code",
   "execution_count": 47,
   "id": "9d7b8ead",
   "metadata": {},
   "outputs": [
    {
     "data": {
      "text/plain": [
       "array([[ 5, 10, 15]], dtype=int32)"
      ]
     },
     "execution_count": 47,
     "metadata": {},
     "output_type": "execute_result"
    }
   ],
   "source": [
    "scalar_mult.numpy()"
   ]
  },
  {
   "cell_type": "code",
   "execution_count": null,
   "id": "8bfa8115",
   "metadata": {},
   "outputs": [],
   "source": []
  }
 ],
 "metadata": {
  "kernelspec": {
   "display_name": "Python 3 (ipykernel)",
   "language": "python",
   "name": "python3"
  },
  "language_info": {
   "codemirror_mode": {
    "name": "ipython",
    "version": 3
   },
   "file_extension": ".py",
   "mimetype": "text/x-python",
   "name": "python",
   "nbconvert_exporter": "python",
   "pygments_lexer": "ipython3",
   "version": "3.10.6"
  }
 },
 "nbformat": 4,
 "nbformat_minor": 5
}
